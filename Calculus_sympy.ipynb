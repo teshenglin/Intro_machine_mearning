{
  "nbformat": 4,
  "nbformat_minor": 0,
  "metadata": {
    "colab": {
      "name": "Calculus_sympy.ipynb",
      "provenance": [],
      "collapsed_sections": [
        "JmQXfhodhY5Q"
      ],
      "authorship_tag": "ABX9TyMsaXUx5lq1IpIpIXKf3sVO",
      "include_colab_link": true
    },
    "kernelspec": {
      "name": "python3",
      "display_name": "Python 3"
    },
    "language_info": {
      "name": "python"
    }
  },
  "cells": [
    {
      "cell_type": "markdown",
      "metadata": {
        "id": "view-in-github",
        "colab_type": "text"
      },
      "source": [
        "<a href=\"https://colab.research.google.com/github/teshenglin/Intro_machine_mearning/blob/main/Calculus_sympy.ipynb\" target=\"_parent\"><img src=\"https://colab.research.google.com/assets/colab-badge.svg\" alt=\"Open In Colab\"/></a>"
      ]
    },
    {
      "cell_type": "markdown",
      "source": [
        "# Calculus using Python\n",
        "\n",
        "* Reference: 政治大學應用數學系 - 蔡炎龍教授: [使用 sympy 和微積分的各種玩耍.ipynb](https://colab.research.google.com/github/yenlung/Math-in-Jupyter/blob/master/%E4%BD%BF%E7%94%A8sympy%E5%92%8C%E5%BE%AE%E7%A9%8D%E5%88%86%E7%9A%84%E5%90%84%E7%A8%AE%E7%8E%A9%E8%80%8D.ipynb)"
      ],
      "metadata": {
        "id": "18RvOjb_g41V"
      }
    },
    {
      "cell_type": "markdown",
      "source": [
        "## Package loading"
      ],
      "metadata": {
        "id": "Yy6p7AgOhG0x"
      }
    },
    {
      "cell_type": "code",
      "execution_count": null,
      "metadata": {
        "id": "D6UfL9uRgaVA"
      },
      "outputs": [],
      "source": [
        "%matplotlib inline\n",
        "\n",
        "import numpy as np\n",
        "import pandas as pd\n",
        "import matplotlib.pyplot as plt\n",
        "import sympy as sp"
      ]
    },
    {
      "cell_type": "markdown",
      "source": [
        "## Simple examples on symbolic calculation"
      ],
      "metadata": {
        "id": "JmQXfhodhY5Q"
      }
    },
    {
      "cell_type": "code",
      "source": [
        "1/2 + 1/3"
      ],
      "metadata": {
        "colab": {
          "base_uri": "https://localhost:8080/"
        },
        "id": "iTfFYwNghhFz",
        "outputId": "5f952cb7-4a61-4e57-c07c-fe887b445711"
      },
      "execution_count": null,
      "outputs": [
        {
          "output_type": "execute_result",
          "data": {
            "text/plain": [
              "0.8333333333333333"
            ]
          },
          "metadata": {},
          "execution_count": 3
        }
      ]
    },
    {
      "cell_type": "code",
      "source": [
        "from sympy import S"
      ],
      "metadata": {
        "id": "a0vj2JzbhAME"
      },
      "execution_count": null,
      "outputs": []
    },
    {
      "cell_type": "code",
      "source": [
        "S(1)/2 + S(1)/3"
      ],
      "metadata": {
        "colab": {
          "base_uri": "https://localhost:8080/",
          "height": 52
        },
        "id": "zEeVgSYZhnPp",
        "outputId": "fe4ee2ef-651d-49b1-e7c1-fc4c003f992e"
      },
      "execution_count": null,
      "outputs": [
        {
          "output_type": "execute_result",
          "data": {
            "text/latex": "$\\displaystyle \\frac{5}{6}$",
            "text/plain": [
              "5/6"
            ]
          },
          "metadata": {},
          "execution_count": 5
        }
      ]
    },
    {
      "cell_type": "code",
      "source": [
        "S(1/2) + S(1/3)"
      ],
      "metadata": {
        "colab": {
          "base_uri": "https://localhost:8080/",
          "height": 38
        },
        "id": "u7ZnbhXEhoxv",
        "outputId": "09ab3b7b-cab7-468c-eb67-22784810629c"
      },
      "execution_count": null,
      "outputs": [
        {
          "output_type": "execute_result",
          "data": {
            "text/latex": "$\\displaystyle 0.833333333333333$",
            "text/plain": [
              "0.833333333333333"
            ]
          },
          "metadata": {},
          "execution_count": 6
        }
      ]
    },
    {
      "cell_type": "markdown",
      "source": [
        "## function"
      ],
      "metadata": {
        "id": "Hemxl_a5nH7q"
      }
    },
    {
      "cell_type": "markdown",
      "source": [
        "### Define variables"
      ],
      "metadata": {
        "id": "ax0MGoQtmQ-F"
      }
    },
    {
      "cell_type": "markdown",
      "source": [
        "#### Single variable\n",
        "\n",
        "To define x as a variable"
      ],
      "metadata": {
        "id": "lUqG3C3QmYxL"
      }
    },
    {
      "cell_type": "code",
      "source": [
        "x = sp.Symbol('x')\n",
        "x**2"
      ],
      "metadata": {
        "colab": {
          "base_uri": "https://localhost:8080/",
          "height": 39
        },
        "id": "aTw3CtsvhrFu",
        "outputId": "8f4b01d3-af29-4b70-ad07-022a494f88d9"
      },
      "execution_count": null,
      "outputs": [
        {
          "output_type": "execute_result",
          "data": {
            "text/latex": "$\\displaystyle x^{2}$",
            "text/plain": [
              "x**2"
            ]
          },
          "metadata": {},
          "execution_count": 7
        }
      ]
    },
    {
      "cell_type": "markdown",
      "source": [
        "#### Multiple variables\n",
        "\n",
        "To define x, y, z as variables"
      ],
      "metadata": {
        "id": "Iw6vBtdtmf5W"
      }
    },
    {
      "cell_type": "code",
      "source": [
        "x, y, z = sp.symbols('x,y,z')\n",
        "x**2 + y*x + z**1.5"
      ],
      "metadata": {
        "colab": {
          "base_uri": "https://localhost:8080/",
          "height": 39
        },
        "id": "2qjpkmnRmVZL",
        "outputId": "0642af43-4999-49b7-f0ca-903f96b04c76"
      },
      "execution_count": null,
      "outputs": [
        {
          "output_type": "execute_result",
          "data": {
            "text/latex": "$\\displaystyle x^{2} + x y + z^{1.5}$",
            "text/plain": [
              "x**2 + x*y + z**1.5"
            ]
          },
          "metadata": {},
          "execution_count": 12
        }
      ]
    },
    {
      "cell_type": "markdown",
      "source": [
        "#### abc module\n",
        "\n",
        "> This module exports all latin and greek letters as Symbols, so you can conveniently do"
      ],
      "metadata": {
        "id": "OU8Lb2cnmyig"
      }
    },
    {
      "cell_type": "code",
      "source": [
        "from sympy.abc import x, y, z, t, a, b, c, alpha, beta, gamma"
      ],
      "metadata": {
        "id": "Pu52vVAOmmUX"
      },
      "execution_count": null,
      "outputs": []
    },
    {
      "cell_type": "code",
      "source": [
        "a*x + b*y + c*z + gamma*x**2"
      ],
      "metadata": {
        "colab": {
          "base_uri": "https://localhost:8080/",
          "height": 39
        },
        "id": "01t33JgUm57D",
        "outputId": "bc77c40d-85a6-48b9-a1a3-775ff7ed572b"
      },
      "execution_count": null,
      "outputs": [
        {
          "output_type": "execute_result",
          "data": {
            "text/latex": "$\\displaystyle a x + b y + c z + \\gamma x^{2}$",
            "text/plain": [
              "a*x + b*y + c*z + gamma*x**2"
            ]
          },
          "metadata": {},
          "execution_count": 11
        }
      ]
    },
    {
      "cell_type": "code",
      "source": [
        "f = x**2\n",
        "f"
      ],
      "metadata": {
        "colab": {
          "base_uri": "https://localhost:8080/",
          "height": 39
        },
        "id": "vhwDrhUFm7mM",
        "outputId": "9e91afa0-6098-4110-c3e6-7ae339541d41"
      },
      "execution_count": null,
      "outputs": [
        {
          "output_type": "execute_result",
          "data": {
            "text/latex": "$\\displaystyle x^{2}$",
            "text/plain": [
              "x**2"
            ]
          },
          "metadata": {},
          "execution_count": 14
        }
      ]
    },
    {
      "cell_type": "markdown",
      "source": [
        "### Evaluate"
      ],
      "metadata": {
        "id": "vXhKEiY8oVqm"
      }
    },
    {
      "cell_type": "markdown",
      "source": [
        "Use `sub` to evaluate the function at a given value.\n",
        "\n",
        "For example, to evaluate $f(87)$:"
      ],
      "metadata": {
        "id": "R5jHDZp4nVyo"
      }
    },
    {
      "cell_type": "code",
      "source": [
        "f.subs(x, 87)"
      ],
      "metadata": {
        "colab": {
          "base_uri": "https://localhost:8080/",
          "height": 38
        },
        "id": "h5rGFJ4UnSIS",
        "outputId": "0e7868af-6a3c-479a-e664-5f4a66433c13"
      },
      "execution_count": null,
      "outputs": [
        {
          "output_type": "execute_result",
          "data": {
            "text/latex": "$\\displaystyle 7569$",
            "text/plain": [
              "7569"
            ]
          },
          "metadata": {},
          "execution_count": 15
        }
      ]
    },
    {
      "cell_type": "markdown",
      "source": [
        "Similarly, for functions with multiple variables:"
      ],
      "metadata": {
        "id": "fM85tLNhn3qj"
      }
    },
    {
      "cell_type": "code",
      "source": [
        "g = x*y + 1\n",
        "g.subs([(x, 94), (y, 87)])"
      ],
      "metadata": {
        "colab": {
          "base_uri": "https://localhost:8080/",
          "height": 38
        },
        "id": "biEfAw3vnyG8",
        "outputId": "f146f433-08a2-454c-8d16-d53237cb1758"
      },
      "execution_count": null,
      "outputs": [
        {
          "output_type": "execute_result",
          "data": {
            "text/latex": "$\\displaystyle 8179$",
            "text/plain": [
              "8179"
            ]
          },
          "metadata": {},
          "execution_count": 16
        }
      ]
    },
    {
      "cell_type": "markdown",
      "source": [
        "### Graph"
      ],
      "metadata": {
        "id": "MJJliVs2oaRl"
      }
    },
    {
      "cell_type": "markdown",
      "source": [
        "To graph a function:"
      ],
      "metadata": {
        "id": "ci_gvULvokTb"
      }
    },
    {
      "cell_type": "code",
      "source": [
        "sp.plot(f)"
      ],
      "metadata": {
        "colab": {
          "base_uri": "https://localhost:8080/",
          "height": 314
        },
        "id": "XT9Wa3jon9IK",
        "outputId": "5393243e-c29a-45e7-8654-679759d84e78"
      },
      "execution_count": null,
      "outputs": [
        {
          "output_type": "display_data",
          "data": {
            "image/png": "[encoded data removed]",
            "text/plain": [
              "<Figure size 432x288 with 1 Axes>"
            ]
          },
          "metadata": {
            "needs_background": "light"
          }
        },
        {
          "output_type": "execute_result",
          "data": {
            "text/plain": [
              "<sympy.plotting.plot.Plot at 0x7f43ee27b490>"
            ]
          },
          "metadata": {},
          "execution_count": 17
        }
      ]
    },
    {
      "cell_type": "markdown",
      "source": [
        "To graph a function with specific range:"
      ],
      "metadata": {
        "id": "3duIggH7onHZ"
      }
    },
    {
      "cell_type": "code",
      "source": [
        "sp.plot(f, (x, -5, 5))"
      ],
      "metadata": {
        "colab": {
          "base_uri": "https://localhost:8080/",
          "height": 314
        },
        "id": "AQsRIw_RoeKb",
        "outputId": "1b31b317-d86f-4bc4-d5cb-2e243982668e"
      },
      "execution_count": null,
      "outputs": [
        {
          "output_type": "display_data",
          "data": {
            "image/png": "[encoded data removed]",
            "text/plain": [
              "<Figure size 432x288 with 1 Axes>"
            ]
          },
          "metadata": {
            "needs_background": "light"
          }
        },
        {
          "output_type": "execute_result",
          "data": {
            "text/plain": [
              "<sympy.plotting.plot.Plot at 0x7f43e617e8d0>"
            ]
          },
          "metadata": {},
          "execution_count": 18
        }
      ]
    },
    {
      "cell_type": "markdown",
      "source": [
        "Multiple graph:"
      ],
      "metadata": {
        "id": "KOADD3UTosSP"
      }
    },
    {
      "cell_type": "code",
      "source": [
        "from sympy.plotting import PlotGrid"
      ],
      "metadata": {
        "id": "nuFgXHLWof7T"
      },
      "execution_count": null,
      "outputs": []
    },
    {
      "cell_type": "code",
      "source": [
        "p1 = sp.plot(x**2,  show=False)\n",
        "p2 = sp.plot(sp.exp(x), show=False)\n",
        "p3 = sp.plot(sp.log(x), show=False)\n",
        "p4 = sp.plot(sp.sin(x), show=False)"
      ],
      "metadata": {
        "id": "VvYfzLoUouV3"
      },
      "execution_count": null,
      "outputs": []
    },
    {
      "cell_type": "code",
      "source": [
        "PlotGrid(2, 2, p1, p2, p3, p4)"
      ],
      "metadata": {
        "colab": {
          "base_uri": "https://localhost:8080/",
          "height": 315
        },
        "id": "MV-vrVVlovWH",
        "outputId": "12b01ad0-e826-4a7c-8879-8c32e342b3e0"
      },
      "execution_count": null,
      "outputs": [
        {
          "output_type": "display_data",
          "data": {
            "image/png": "[encoded data removed]",
            "text/plain": [
              "<Figure size 432x288 with 4 Axes>"
            ]
          },
          "metadata": {
            "needs_background": "light"
          }
        },
        {
          "output_type": "execute_result",
          "data": {
            "text/plain": [
              "<sympy.plotting.plot.PlotGrid at 0x7f43e617e310>"
            ]
          },
          "metadata": {},
          "execution_count": 21
        }
      ]
    },
    {
      "cell_type": "markdown",
      "source": [
        "### Limit"
      ],
      "metadata": {
        "id": "gDAfQSbCo0Yq"
      }
    },
    {
      "cell_type": "code",
      "source": [
        "f = sp.sin(x)/x\n",
        "f"
      ],
      "metadata": {
        "colab": {
          "base_uri": "https://localhost:8080/",
          "height": 54
        },
        "id": "CZ4G-zrcowmI",
        "outputId": "b81e0826-35db-4c7f-bd13-a98209672475"
      },
      "execution_count": null,
      "outputs": [
        {
          "output_type": "execute_result",
          "data": {
            "text/latex": "$\\displaystyle \\frac{\\sin{\\left(x \\right)}}{x}$",
            "text/plain": [
              "sin(x)/x"
            ]
          },
          "metadata": {},
          "execution_count": 29
        }
      ]
    },
    {
      "cell_type": "code",
      "source": [
        "sp.limit(f, x, 0)"
      ],
      "metadata": {
        "colab": {
          "base_uri": "https://localhost:8080/",
          "height": 38
        },
        "id": "QDzTQh7fpExH",
        "outputId": "da2979d5-6682-4e0f-dced-f52ba646f7d0"
      },
      "execution_count": null,
      "outputs": [
        {
          "output_type": "execute_result",
          "data": {
            "text/latex": "$\\displaystyle 1$",
            "text/plain": [
              "1"
            ]
          },
          "metadata": {},
          "execution_count": 27
        }
      ]
    },
    {
      "cell_type": "markdown",
      "source": [
        "#### One side limit"
      ],
      "metadata": {
        "id": "Vyhoar6qpbLZ"
      }
    },
    {
      "cell_type": "code",
      "source": [
        "g = 1/x\n",
        "g"
      ],
      "metadata": {
        "colab": {
          "base_uri": "https://localhost:8080/",
          "height": 52
        },
        "id": "Uiudh7__o-7K",
        "outputId": "5da57ddb-1e21-43ec-913d-1b5027eb4392"
      },
      "execution_count": null,
      "outputs": [
        {
          "output_type": "execute_result",
          "data": {
            "text/latex": "$\\displaystyle \\frac{1}{x}$",
            "text/plain": [
              "1/x"
            ]
          },
          "metadata": {},
          "execution_count": 30
        }
      ]
    },
    {
      "cell_type": "code",
      "source": [
        "sp.limit(g, x, 0, '+')"
      ],
      "metadata": {
        "colab": {
          "base_uri": "https://localhost:8080/",
          "height": 38
        },
        "id": "jeVCEwy4o_6-",
        "outputId": "1ebc8ac3-ba2d-4c5f-bbe6-f50e0a9c132b"
      },
      "execution_count": null,
      "outputs": [
        {
          "output_type": "execute_result",
          "data": {
            "text/latex": "$\\displaystyle \\infty$",
            "text/plain": [
              "oo"
            ]
          },
          "metadata": {},
          "execution_count": 31
        }
      ]
    },
    {
      "cell_type": "code",
      "source": [
        "sp.limit(g, x, 0, '-')"
      ],
      "metadata": {
        "colab": {
          "base_uri": "https://localhost:8080/",
          "height": 38
        },
        "id": "OSFE0xj2pClt",
        "outputId": "f1944bfe-911f-4f26-ac22-88d8454e9871"
      },
      "execution_count": null,
      "outputs": [
        {
          "output_type": "execute_result",
          "data": {
            "text/latex": "$\\displaystyle -\\infty$",
            "text/plain": [
              "-oo"
            ]
          },
          "metadata": {},
          "execution_count": 32
        }
      ]
    },
    {
      "cell_type": "markdown",
      "source": [
        "#### Limit at infinity"
      ],
      "metadata": {
        "id": "y9R6q-dApgaS"
      }
    },
    {
      "cell_type": "code",
      "source": [
        "h = 1/(1+sp.exp(-x))\n",
        "h"
      ],
      "metadata": {
        "colab": {
          "base_uri": "https://localhost:8080/",
          "height": 53
        },
        "id": "U-AXKz3EpGhu",
        "outputId": "c925892f-0434-4ca0-d046-10ffbcc0dadc"
      },
      "execution_count": null,
      "outputs": [
        {
          "output_type": "execute_result",
          "data": {
            "text/latex": "$\\displaystyle \\frac{1}{1 + e^{- x}}$",
            "text/plain": [
              "1/(1 + exp(-x))"
            ]
          },
          "metadata": {},
          "execution_count": 36
        }
      ]
    },
    {
      "cell_type": "code",
      "source": [
        "sp.limit(h, x, sp.oo)"
      ],
      "metadata": {
        "colab": {
          "base_uri": "https://localhost:8080/",
          "height": 38
        },
        "id": "2g0gH1Fmpmrz",
        "outputId": "6fdea387-43a0-4c94-82fa-6e3f5617ec8f"
      },
      "execution_count": null,
      "outputs": [
        {
          "output_type": "execute_result",
          "data": {
            "text/latex": "$\\displaystyle 1$",
            "text/plain": [
              "1"
            ]
          },
          "metadata": {},
          "execution_count": 37
        }
      ]
    },
    {
      "cell_type": "code",
      "source": [
        "sp.limit(h, x, -sp.oo)"
      ],
      "metadata": {
        "colab": {
          "base_uri": "https://localhost:8080/",
          "height": 38
        },
        "id": "OWEKpTk9poZh",
        "outputId": "6a1bb88c-d900-4829-f499-c8fb744ec1fa"
      },
      "execution_count": null,
      "outputs": [
        {
          "output_type": "execute_result",
          "data": {
            "text/latex": "$\\displaystyle 0$",
            "text/plain": [
              "0"
            ]
          },
          "metadata": {},
          "execution_count": 38
        }
      ]
    },
    {
      "cell_type": "markdown",
      "source": [
        "### Derivative"
      ],
      "metadata": {
        "id": "5oBdVVXwp50i"
      }
    },
    {
      "cell_type": "code",
      "source": [
        "f = x**4 - 3*x**2 + 2*x - 5\n",
        "f"
      ],
      "metadata": {
        "colab": {
          "base_uri": "https://localhost:8080/",
          "height": 39
        },
        "id": "g2Jy7trHp122",
        "outputId": "1fc54cff-216c-4ad3-906d-880e13271550"
      },
      "execution_count": null,
      "outputs": [
        {
          "output_type": "execute_result",
          "data": {
            "text/latex": "$\\displaystyle x^{4} - 3 x^{2} + 2 x - 5$",
            "text/plain": [
              "x**4 - 3*x**2 + 2*x - 5"
            ]
          },
          "metadata": {},
          "execution_count": 39
        }
      ]
    },
    {
      "cell_type": "markdown",
      "source": [
        "#### First derivative"
      ],
      "metadata": {
        "id": "vpuMlofrqE5J"
      }
    },
    {
      "cell_type": "code",
      "source": [
        "sp.diff(f, x)"
      ],
      "metadata": {
        "colab": {
          "base_uri": "https://localhost:8080/",
          "height": 39
        },
        "id": "ITinp5rap8jQ",
        "outputId": "8c05d5aa-0a56-471b-a691-2d8bf58209b8"
      },
      "execution_count": null,
      "outputs": [
        {
          "output_type": "execute_result",
          "data": {
            "text/latex": "$\\displaystyle 4 x^{3} - 6 x + 2$",
            "text/plain": [
              "4*x**3 - 6*x + 2"
            ]
          },
          "metadata": {},
          "execution_count": 40
        }
      ]
    },
    {
      "cell_type": "markdown",
      "source": [
        "#### Second derivative"
      ],
      "metadata": {
        "id": "y5K62MbwqHQz"
      }
    },
    {
      "cell_type": "code",
      "source": [
        "sp.diff(f, x, 2)"
      ],
      "metadata": {
        "colab": {
          "base_uri": "https://localhost:8080/",
          "height": 39
        },
        "id": "cNaUy7qGp942",
        "outputId": "6b39406e-7730-413a-eba1-89b2523ee493"
      },
      "execution_count": null,
      "outputs": [
        {
          "output_type": "execute_result",
          "data": {
            "text/latex": "$\\displaystyle 6 \\left(2 x^{2} - 1\\right)$",
            "text/plain": [
              "6*(2*x**2 - 1)"
            ]
          },
          "metadata": {},
          "execution_count": 41
        }
      ]
    },
    {
      "cell_type": "markdown",
      "source": [
        "#### More examples"
      ],
      "metadata": {
        "id": "9p_enujVqVrm"
      }
    },
    {
      "cell_type": "code",
      "source": [
        "sp.diff(sp.sin(x), x, 1)"
      ],
      "metadata": {
        "colab": {
          "base_uri": "https://localhost:8080/",
          "height": 39
        },
        "id": "jFAIYr1uqBe8",
        "outputId": "859f4b6c-2725-4f46-e0ec-499762deee26"
      },
      "execution_count": null,
      "outputs": [
        {
          "output_type": "execute_result",
          "data": {
            "text/latex": "$\\displaystyle \\cos{\\left(x \\right)}$",
            "text/plain": [
              "cos(x)"
            ]
          },
          "metadata": {},
          "execution_count": 45
        }
      ]
    },
    {
      "cell_type": "markdown",
      "source": [
        "Derivative of $\\sin^{-1}(x)$"
      ],
      "metadata": {
        "id": "JKdFJpfPqZ0q"
      }
    },
    {
      "cell_type": "code",
      "source": [
        "sp.diff(sp.asin(x), x, 1)"
      ],
      "metadata": {
        "colab": {
          "base_uri": "https://localhost:8080/",
          "height": 56
        },
        "id": "FCGMcTs0qC0m",
        "outputId": "85a3012b-ec23-4fc4-e0b7-8e25a441a29d"
      },
      "execution_count": null,
      "outputs": [
        {
          "output_type": "execute_result",
          "data": {
            "text/latex": "$\\displaystyle \\frac{1}{\\sqrt{1 - x^{2}}}$",
            "text/plain": [
              "1/sqrt(1 - x**2)"
            ]
          },
          "metadata": {},
          "execution_count": 46
        }
      ]
    },
    {
      "cell_type": "markdown",
      "source": [
        "#### Implicit differentiation"
      ],
      "metadata": {
        "id": "KOBYAv2hqfwk"
      }
    },
    {
      "cell_type": "markdown",
      "source": [
        "Suppose we have the relation $f(x, y)=0$ and we aim to find $\\frac{\\partial y}{\\partial x}$.\n",
        "\n",
        "Firstly, we need to define $f(x, y)$:"
      ],
      "metadata": {
        "id": "gg0vFxg4q3Sx"
      }
    },
    {
      "cell_type": "code",
      "source": [
        "f = y**2 - x\n",
        "f"
      ],
      "metadata": {
        "colab": {
          "base_uri": "https://localhost:8080/",
          "height": 39
        },
        "id": "omc8UFHFqY4c",
        "outputId": "282ef6ad-fb03-492b-f159-0cc61806ccac"
      },
      "execution_count": null,
      "outputs": [
        {
          "output_type": "execute_result",
          "data": {
            "text/latex": "$\\displaystyle - x + y^{2}$",
            "text/plain": [
              "-x + y**2"
            ]
          },
          "metadata": {},
          "execution_count": 52
        }
      ]
    },
    {
      "cell_type": "markdown",
      "source": [
        "The we take derivative of $y$ with repspect to $x$:\n",
        "> Note that for implicit differentiation, we use `sp.idiff`"
      ],
      "metadata": {
        "id": "CNCW-z25q8Q9"
      }
    },
    {
      "cell_type": "code",
      "source": [
        "sp.idiff(f, y, x)"
      ],
      "metadata": {
        "colab": {
          "base_uri": "https://localhost:8080/",
          "height": 55
        },
        "id": "qHlKceePqjGf",
        "outputId": "f92ec838-5154-45dd-f5a8-4723722bdb59"
      },
      "execution_count": null,
      "outputs": [
        {
          "output_type": "execute_result",
          "data": {
            "text/latex": "$\\displaystyle \\frac{1}{2 y}$",
            "text/plain": [
              "1/(2*y)"
            ]
          },
          "metadata": {},
          "execution_count": 53
        }
      ]
    },
    {
      "cell_type": "markdown",
      "source": [
        "To find the slope of this curve at, say, $(x,y)=(1,1)$:"
      ],
      "metadata": {
        "id": "XO1P-h0nrb-Q"
      }
    },
    {
      "cell_type": "code",
      "source": [
        "sp.idiff(f, y, x).subs([(x,1), (y,1)])"
      ],
      "metadata": {
        "colab": {
          "base_uri": "https://localhost:8080/",
          "height": 52
        },
        "id": "OL2QHYOIq75L",
        "outputId": "aef44cb9-5d1b-4248-e481-8da2541bd051"
      },
      "execution_count": null,
      "outputs": [
        {
          "output_type": "execute_result",
          "data": {
            "text/latex": "$\\displaystyle \\frac{1}{2}$",
            "text/plain": [
              "1/2"
            ]
          },
          "metadata": {},
          "execution_count": 54
        }
      ]
    },
    {
      "cell_type": "markdown",
      "source": [
        "#### Graph of a implicit function\n",
        "\n",
        "To make a graph of a curve defined by $f(x, y)=a$:\n",
        "\n",
        "Firstly, we need to define this equation as `sp.Eq(f, a)`. \\\\\n",
        "Then we use `sp.plot_implicit` to make a graph."
      ],
      "metadata": {
        "id": "OO5PIS-irnga"
      }
    },
    {
      "cell_type": "code",
      "source": [
        "f"
      ],
      "metadata": {
        "colab": {
          "base_uri": "https://localhost:8080/",
          "height": 39
        },
        "id": "mNfl1em8sFep",
        "outputId": "dca8dd3c-0f51-4f67-a230-e3daa4c1659c"
      },
      "execution_count": null,
      "outputs": [
        {
          "output_type": "execute_result",
          "data": {
            "text/latex": "$\\displaystyle - x + y^{2}$",
            "text/plain": [
              "-x + y**2"
            ]
          },
          "metadata": {},
          "execution_count": 58
        }
      ]
    },
    {
      "cell_type": "code",
      "source": [
        "sp.plot_implicit(sp.Eq(f, 0))"
      ],
      "metadata": {
        "colab": {
          "base_uri": "https://localhost:8080/",
          "height": 315
        },
        "id": "QgMWEC2PrB6N",
        "outputId": "682bfcf8-9f5f-48ae-be90-77409af39404"
      },
      "execution_count": null,
      "outputs": [
        {
          "output_type": "display_data",
          "data": {
            "image/png": "[encoded data removed]",
            "text/plain": [
              "<Figure size 432x288 with 1 Axes>"
            ]
          },
          "metadata": {
            "needs_background": "light"
          }
        },
        {
          "output_type": "execute_result",
          "data": {
            "text/plain": [
              "<sympy.plotting.plot.Plot at 0x7f43e0691510>"
            ]
          },
          "metadata": {},
          "execution_count": 63
        }
      ]
    },
    {
      "cell_type": "markdown",
      "source": [
        "#### Critical points"
      ],
      "metadata": {
        "id": "5LiGWObDstxz"
      }
    },
    {
      "cell_type": "markdown",
      "source": [
        "1. To look for the points at which the derivative equals to zero."
      ],
      "metadata": {
        "id": "7pNFdztVszQu"
      }
    },
    {
      "cell_type": "code",
      "source": [
        "f = x**3 + 2*x**2 + x\n",
        "f"
      ],
      "metadata": {
        "colab": {
          "base_uri": "https://localhost:8080/",
          "height": 39
        },
        "id": "S3izyoJssEIG",
        "outputId": "2a235ccb-e809-42d3-b0e8-345c06656f5b"
      },
      "execution_count": null,
      "outputs": [
        {
          "output_type": "execute_result",
          "data": {
            "text/latex": "$\\displaystyle x^{3} + 2 x^{2} + x$",
            "text/plain": [
              "x**3 + 2*x**2 + x"
            ]
          },
          "metadata": {},
          "execution_count": 72
        }
      ]
    },
    {
      "cell_type": "code",
      "source": [
        "f1 = sp.diff(f, x)"
      ],
      "metadata": {
        "id": "BWDkRwIMsv2m"
      },
      "execution_count": null,
      "outputs": []
    },
    {
      "cell_type": "code",
      "source": [
        "sp.solveset(f1, x, domain=S.Reals)"
      ],
      "metadata": {
        "colab": {
          "base_uri": "https://localhost:8080/",
          "height": 58
        },
        "id": "bO1owij6tFEC",
        "outputId": "97d057df-ef4e-4946-f6a1-d26994849aa1"
      },
      "execution_count": null,
      "outputs": [
        {
          "output_type": "execute_result",
          "data": {
            "text/latex": "$\\displaystyle \\left\\{-1, - \\frac{1}{3}\\right\\}$",
            "text/plain": [
              "FiniteSet(-1, -1/3)"
            ]
          },
          "metadata": {},
          "execution_count": 79
        }
      ]
    },
    {
      "cell_type": "markdown",
      "source": [
        "1.1 To check the concavity at the critical points.\n",
        "> Evalaute the second derivative at these points."
      ],
      "metadata": {
        "id": "io62CyvhtvOx"
      }
    },
    {
      "cell_type": "code",
      "source": [
        "f2 = sp.diff(f, x, 2)"
      ],
      "metadata": {
        "id": "s0VeiAJntIfm"
      },
      "execution_count": null,
      "outputs": []
    },
    {
      "cell_type": "code",
      "source": [
        "f2.subs(x, -1)"
      ],
      "metadata": {
        "colab": {
          "base_uri": "https://localhost:8080/",
          "height": 38
        },
        "id": "i8HP3Kycta5J",
        "outputId": "d36b3320-5fc3-40c0-bd10-c00bc5aee01d"
      },
      "execution_count": null,
      "outputs": [
        {
          "output_type": "execute_result",
          "data": {
            "text/latex": "$\\displaystyle -2$",
            "text/plain": [
              "-2"
            ]
          },
          "metadata": {},
          "execution_count": 76
        }
      ]
    },
    {
      "cell_type": "code",
      "source": [
        "f2.subs(x, -S(1)/3)"
      ],
      "metadata": {
        "colab": {
          "base_uri": "https://localhost:8080/",
          "height": 38
        },
        "id": "X71CLOoKtctA",
        "outputId": "2a3346f6-de2b-4052-e73e-383f0903e37c"
      },
      "execution_count": null,
      "outputs": [
        {
          "output_type": "execute_result",
          "data": {
            "text/latex": "$\\displaystyle 2$",
            "text/plain": [
              "2"
            ]
          },
          "metadata": {},
          "execution_count": 78
        }
      ]
    },
    {
      "cell_type": "markdown",
      "source": [
        "2. To look for singular points."
      ],
      "metadata": {
        "id": "YXOfuUxluAjQ"
      }
    },
    {
      "cell_type": "code",
      "source": [
        "from sympy.calculus import singularities"
      ],
      "metadata": {
        "id": "-tiS36Xruiax"
      },
      "execution_count": null,
      "outputs": []
    },
    {
      "cell_type": "code",
      "source": [
        "f = 1/x\n",
        "f"
      ],
      "metadata": {
        "colab": {
          "base_uri": "https://localhost:8080/",
          "height": 52
        },
        "id": "T4M86AChtd8y",
        "outputId": "1d1639f2-b96c-4a21-99a3-b147752e894c"
      },
      "execution_count": null,
      "outputs": [
        {
          "output_type": "execute_result",
          "data": {
            "text/latex": "$\\displaystyle \\frac{1}{x}$",
            "text/plain": [
              "1/x"
            ]
          },
          "metadata": {},
          "execution_count": 84
        }
      ]
    },
    {
      "cell_type": "code",
      "source": [
        "f1 = sp.diff(f, x)"
      ],
      "metadata": {
        "id": "O1TiymKruYM_"
      },
      "execution_count": null,
      "outputs": []
    },
    {
      "cell_type": "code",
      "source": [
        "singularities(f1, x)"
      ],
      "metadata": {
        "colab": {
          "base_uri": "https://localhost:8080/",
          "height": 38
        },
        "id": "r1JIHgO9uZbB",
        "outputId": "53147281-3509-4b2a-b116-7a4441e6c920"
      },
      "execution_count": null,
      "outputs": [
        {
          "output_type": "execute_result",
          "data": {
            "text/latex": "$\\displaystyle \\left\\{0\\right\\}$",
            "text/plain": [
              "FiniteSet(0)"
            ]
          },
          "metadata": {},
          "execution_count": 86
        }
      ]
    },
    {
      "cell_type": "code",
      "source": [
        "g = sp.Abs(x)\n",
        "g"
      ],
      "metadata": {
        "colab": {
          "base_uri": "https://localhost:8080/",
          "height": 39
        },
        "id": "r1FLeDSUubC5",
        "outputId": "5fb5b0b6-35f3-43db-dfa3-83e06738e05c"
      },
      "execution_count": null,
      "outputs": [
        {
          "output_type": "execute_result",
          "data": {
            "text/latex": "$\\displaystyle \\left|{x}\\right|$",
            "text/plain": [
              "Abs(x)"
            ]
          },
          "metadata": {},
          "execution_count": 87
        }
      ]
    },
    {
      "cell_type": "code",
      "source": [
        "g1 = sp.diff(g, x)"
      ],
      "metadata": {
        "id": "qUd31-0julsc"
      },
      "execution_count": null,
      "outputs": []
    },
    {
      "cell_type": "code",
      "source": [
        "singularities(g1, x)"
      ],
      "metadata": {
        "colab": {
          "base_uri": "https://localhost:8080/",
          "height": 38
        },
        "id": "dB10r6Y0un2B",
        "outputId": "575942a9-634e-4370-e20a-77af125035b6"
      },
      "execution_count": null,
      "outputs": [
        {
          "output_type": "execute_result",
          "data": {
            "text/latex": "$\\displaystyle \\left\\{0\\right\\}$",
            "text/plain": [
              "FiniteSet(0)"
            ]
          },
          "metadata": {},
          "execution_count": 90
        }
      ]
    },
    {
      "cell_type": "markdown",
      "source": [
        "### Integration"
      ],
      "metadata": {
        "id": "XDUBydiUutBV"
      }
    },
    {
      "cell_type": "markdown",
      "source": [
        "#### Indefinite integral"
      ],
      "metadata": {
        "id": "0N0wWp3zuy4A"
      }
    },
    {
      "cell_type": "code",
      "source": [
        "f = sp.sqrt(31*x + 2)\n",
        "f"
      ],
      "metadata": {
        "colab": {
          "base_uri": "https://localhost:8080/",
          "height": 38
        },
        "id": "oBAQPtAXuqMK",
        "outputId": "564ef33f-64a6-4271-abb6-41a196d02406"
      },
      "execution_count": null,
      "outputs": [
        {
          "output_type": "execute_result",
          "data": {
            "text/latex": "$\\displaystyle \\sqrt{31 x + 2}$",
            "text/plain": [
              "sqrt(31*x + 2)"
            ]
          },
          "metadata": {},
          "execution_count": 96
        }
      ]
    },
    {
      "cell_type": "code",
      "source": [
        "sp.integrate(f, x)"
      ],
      "metadata": {
        "colab": {
          "base_uri": "https://localhost:8080/",
          "height": 59
        },
        "id": "cG7Gt6V-u1kV",
        "outputId": "b3d52ac4-d73e-459f-d0be-16d4163d1528"
      },
      "execution_count": null,
      "outputs": [
        {
          "output_type": "execute_result",
          "data": {
            "text/latex": "$\\displaystyle \\frac{2 \\left(31 x + 2\\right)^{\\frac{3}{2}}}{93}$",
            "text/plain": [
              "2*(31*x + 2)**(3/2)/93"
            ]
          },
          "metadata": {},
          "execution_count": 97
        }
      ]
    },
    {
      "cell_type": "markdown",
      "source": [
        "#### Definite integral"
      ],
      "metadata": {
        "id": "CUUSGkUhu8Vv"
      }
    },
    {
      "cell_type": "code",
      "source": [
        "sp.integrate(f, (x,0,2))"
      ],
      "metadata": {
        "colab": {
          "base_uri": "https://localhost:8080/",
          "height": 57
        },
        "id": "VCW9Wl4Hu4JT",
        "outputId": "47c9f280-e952-47d7-9cdd-89ca206390d5"
      },
      "execution_count": null,
      "outputs": [
        {
          "output_type": "execute_result",
          "data": {
            "text/latex": "$\\displaystyle \\frac{1024}{93} - \\frac{4 \\sqrt{2}}{93}$",
            "text/plain": [
              "1024/93 - 4*sqrt(2)/93"
            ]
          },
          "metadata": {},
          "execution_count": 94
        }
      ]
    },
    {
      "cell_type": "markdown",
      "source": [
        "Or, to find a general formula for $\\int^b_a f(x)\\,dx$:"
      ],
      "metadata": {
        "id": "lB2EjBmDvEaJ"
      }
    },
    {
      "cell_type": "code",
      "source": [
        "sp.integrate(f, (x,a,b))"
      ],
      "metadata": {
        "colab": {
          "base_uri": "https://localhost:8080/",
          "height": 59
        },
        "id": "e-xWg7zPvAsj",
        "outputId": "4d6a0002-5bcd-45c3-8aa1-2782c3314821"
      },
      "execution_count": null,
      "outputs": [
        {
          "output_type": "execute_result",
          "data": {
            "text/latex": "$\\displaystyle - \\frac{2 \\left(31 a + 2\\right)^{\\frac{3}{2}}}{93} + \\frac{2 \\left(31 b + 2\\right)^{\\frac{3}{2}}}{93}$",
            "text/plain": [
              "-2*(31*a + 2)**(3/2)/93 + 2*(31*b + 2)**(3/2)/93"
            ]
          },
          "metadata": {},
          "execution_count": 101
        }
      ]
    },
    {
      "cell_type": "markdown",
      "source": [
        "#### Example\n",
        "\n",
        "Consider the sigmoidal function $\\sigma(x) = \\frac{1}{1 + e^{-x}}$. \\\\\n",
        "We know that $\\sigma'(x) = \\sigma(x)\\sigma(-x)$. \\\\\n",
        "Let's check if `sympy` is correct about it."
      ],
      "metadata": {
        "id": "UPz0moCzwFTy"
      }
    },
    {
      "cell_type": "code",
      "source": [
        "f = 1/(1 + sp.exp(-x))\n",
        "f"
      ],
      "metadata": {
        "colab": {
          "base_uri": "https://localhost:8080/",
          "height": 53
        },
        "id": "uGYUN7i2vSmV",
        "outputId": "ed8c45f1-1634-4d35-ae7e-69d7327e5ad1"
      },
      "execution_count": null,
      "outputs": [
        {
          "output_type": "execute_result",
          "data": {
            "text/latex": "$\\displaystyle \\frac{1}{1 + e^{- x}}$",
            "text/plain": [
              "1/(1 + exp(-x))"
            ]
          },
          "metadata": {},
          "execution_count": 104
        }
      ]
    },
    {
      "cell_type": "code",
      "source": [
        "f1 = sp.diff(f, x)\n",
        "f1"
      ],
      "metadata": {
        "colab": {
          "base_uri": "https://localhost:8080/",
          "height": 62
        },
        "id": "bAMBuOqBvnWi",
        "outputId": "8d1a383e-643d-4770-9689-0f262a9c0e18"
      },
      "execution_count": null,
      "outputs": [
        {
          "output_type": "execute_result",
          "data": {
            "text/latex": "$\\displaystyle \\frac{e^{- x}}{\\left(1 + e^{- x}\\right)^{2}}$",
            "text/plain": [
              "exp(-x)/(1 + exp(-x))**2"
            ]
          },
          "metadata": {},
          "execution_count": 106
        }
      ]
    },
    {
      "cell_type": "code",
      "source": [
        "g = 1/(1 + sp.exp(x))"
      ],
      "metadata": {
        "id": "Xl7uBDXqvzey"
      },
      "execution_count": null,
      "outputs": []
    },
    {
      "cell_type": "code",
      "source": [
        "f1 - f*g"
      ],
      "metadata": {
        "colab": {
          "base_uri": "https://localhost:8080/",
          "height": 62
        },
        "id": "IFPyHj4XwYwF",
        "outputId": "72cd662d-c5fa-42a6-b5ba-5e7c5b357e84"
      },
      "execution_count": null,
      "outputs": [
        {
          "output_type": "execute_result",
          "data": {
            "text/latex": "$\\displaystyle - \\frac{1}{\\left(1 + e^{- x}\\right) \\left(e^{x} + 1\\right)} + \\frac{e^{- x}}{\\left(1 + e^{- x}\\right)^{2}}$",
            "text/plain": [
              "-1/((1 + exp(-x))*(exp(x) + 1)) + exp(-x)/(1 + exp(-x))**2"
            ]
          },
          "metadata": {},
          "execution_count": 112
        }
      ]
    },
    {
      "cell_type": "markdown",
      "source": [
        "It should be zero but doesn't looks like. Use `sp.simplify` to symplify a bit:"
      ],
      "metadata": {
        "id": "pAC9wV9uwcEe"
      }
    },
    {
      "cell_type": "code",
      "source": [
        "sp.simplify(f1 - f*g)"
      ],
      "metadata": {
        "colab": {
          "base_uri": "https://localhost:8080/",
          "height": 38
        },
        "id": "25tRJHl-v5Zp",
        "outputId": "0d2766a1-ace9-4cad-81c1-225b283e2ef3"
      },
      "execution_count": null,
      "outputs": [
        {
          "output_type": "execute_result",
          "data": {
            "text/latex": "$\\displaystyle 0$",
            "text/plain": [
              "0"
            ]
          },
          "metadata": {},
          "execution_count": 113
        }
      ]
    }
  ]
}